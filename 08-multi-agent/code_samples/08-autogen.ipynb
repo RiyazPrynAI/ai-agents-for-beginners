{
 "cells": [
  {
   "cell_type": "code",
   "execution_count": 1,
   "metadata": {},
   "outputs": [],
   "source": [
    "import os\n",
    "\n",
    "from autogen_agentchat.agents import AssistantAgent\n",
    "from autogen_core.models import UserMessage\n",
    "from autogen_ext.models.azure import AzureAIChatCompletionClient\n",
    "from azure.core.credentials import AzureKeyCredential\n",
    "from autogen_core import CancellationToken\n",
    "from autogen_agentchat.base import TaskResult\n",
    "\n",
    "from autogen_agentchat.messages import TextMessage\n",
    "from autogen_agentchat.ui import Console\n",
    "\n",
    "\n",
    "from autogen_agentchat.conditions import TextMentionTermination\n",
    "from autogen_agentchat.teams import RoundRobinGroupChat"
   ]
  },
  {
   "cell_type": "code",
   "execution_count": 2,
   "metadata": {},
   "outputs": [
    {
     "name": "stderr",
     "output_type": "stream",
     "text": [
      "c:\\Users\\riahl\\OneDrive\\UKCareer\\Careers\\Resume\\Companies\\PrynGlobal\\FoundationsMVPBuild\\AzureDevops\\ai-agents-for-beginners\\Agentsenv\\Lib\\site-packages\\autogen_ext\\models\\azure\\_azure_ai_client.py:307: UserWarning: Missing required field 'structured_output' in ModelInfo. This field will be required in a future version of AutoGen.\n",
      "  validate_model_info(config[\"model_info\"])\n"
     ]
    }
   ],
   "source": [
    "client = AzureAIChatCompletionClient(\n",
    "    model=\"gpt-4o-mini\",\n",
    "    endpoint=\"https://models.inference.ai.azure.com\",\n",
    "    # To authenticate with the model you will need to generate a personal access token (PAT) in your GitHub settings.\n",
    "    # Create your PAT token by following instructions here: https://docs.github.com/en/authentication/keeping-your-account-and-data-secure/managing-your-personal-access-tokens\n",
    "    credential=AzureKeyCredential(os.environ[\"GITHUB_TOKEN\"]),\n",
    "    model_info={\n",
    "        \"json_output\": True,\n",
    "        \"function_calling\": True,\n",
    "        \"vision\": True,\n",
    "        \"family\": \"unknown\",\n",
    "    },\n",
    ")"
   ]
  },
  {
   "cell_type": "code",
   "execution_count": 3,
   "metadata": {},
   "outputs": [],
   "source": [
    "frontdesk_agent = AssistantAgent(\n",
    "    \"planner_agent\",\n",
    "    model_client=client,\n",
    "    description=\"A helpful assistant that can plan trips.\",\n",
    "    system_message=\"\"\"\n",
    "    You are a Front Desk Travel Agent with ten years of experience and are known for brevity as you deal with many customers.\n",
    "    The goal is to provide the best activities and locations for a traveler to visit.\n",
    "    Only provide a single recommendation per response.\n",
    "    You're laser focused on the goal at hand.\n",
    "    Don't waste time with chit chat.\n",
    "    Consider suggestions when refining an idea.\"\"\",\n",
    ")\n",
    "\n",
    "concierge_agent = AssistantAgent(\n",
    "    \"concierge_agent\",\n",
    "    model_client=client,\n",
    "    description=\"A local assistant that can suggest local activities or places to visit.\",\n",
    "    system_message=\"\"\"\n",
    "    You are an are hotel concierge who has opinions about providing the most local and authentic experiences for travelers.\n",
    "    The goal is to determine if the front desk travel agent has recommended the best non-touristy experience for a traveler.\n",
    "    If so, respond with 'APPROVE'\n",
    "    If not, provide insight on how to refine the recommendation without using a specific example. \n",
    "    \"\"\",\n",
    ")"
   ]
  },
  {
   "cell_type": "code",
   "execution_count": 4,
   "metadata": {},
   "outputs": [
    {
     "name": "stdout",
     "output_type": "stream",
     "text": [
      "id='b0fe80dd-5a5b-46aa-a444-7337c72d6c0c' source='user' models_usage=None metadata={} created_at=datetime.datetime(2025, 7, 19, 18, 44, 30, 291517, tzinfo=datetime.timezone.utc) content='I would like to plan a trip to Paris.' type='TextMessage'\n",
      "id='0e3aaba0-f7ab-428e-95fc-24cd881c68b6' source='planner_agent' models_usage=RequestUsage(prompt_tokens=100, completion_tokens=11) metadata={} created_at=datetime.datetime(2025, 7, 19, 18, 44, 31, 197363, tzinfo=datetime.timezone.utc) content='Visit the Louvre Museum for an iconic cultural experience.' type='TextMessage'\n",
      "id='45dbe13f-9a33-4254-a9e4-bb5775136c37' source='concierge_agent' models_usage=RequestUsage(prompt_tokens=112, completion_tokens=59) metadata={} created_at=datetime.datetime(2025, 7, 19, 18, 44, 33, 320186, tzinfo=datetime.timezone.utc) content='While the Louvre Museum is indeed an iconic destination, it can be quite touristy and crowded. To refine the recommendation, consider suggesting a lesser-known museum or art space that showcases local artists or unique themes. This way, travelers can immerse themselves in authentic Parisian culture without the large crowds.' type='TextMessage'\n",
      "id='866db9a0-8a4f-4903-90c9-d344cd7d37b7' source='planner_agent' models_usage=RequestUsage(prompt_tokens=176, completion_tokens=21) metadata={} created_at=datetime.datetime(2025, 7, 19, 18, 44, 34, 33264, tzinfo=datetime.timezone.utc) content=\"Explore the Musée de l'Orangerie, home to Monet's Water Lilies and lesser crowds.\" type='TextMessage'\n",
      "id='e3bd8ad9-390a-4643-9aa4-d110bf26432e' source='concierge_agent' models_usage=RequestUsage(prompt_tokens=198, completion_tokens=4) metadata={} created_at=datetime.datetime(2025, 7, 19, 18, 44, 34, 398609, tzinfo=datetime.timezone.utc) content='APPROVE' type='TextMessage'\n",
      "Stop Reason: Text 'APPROVE' mentioned\n"
     ]
    }
   ],
   "source": [
    "termination = TextMentionTermination(\"APPROVE\")\n",
    "team = RoundRobinGroupChat(\n",
    "    [frontdesk_agent, concierge_agent], termination_condition=termination\n",
    ")\n",
    "\n",
    "async for message in team.run_stream(task=\"I would like to plan a trip to Paris.\"):\n",
    "    if isinstance(message, TaskResult):\n",
    "        print(\"Stop Reason:\", message.stop_reason)\n",
    "    else:\n",
    "        print(message)"
   ]
  }
 ],
 "metadata": {
  "kernelspec": {
   "display_name": "Agentsenv",
   "language": "python",
   "name": "python3"
  },
  "language_info": {
   "codemirror_mode": {
    "name": "ipython",
    "version": 3
   },
   "file_extension": ".py",
   "mimetype": "text/x-python",
   "name": "python",
   "nbconvert_exporter": "python",
   "pygments_lexer": "ipython3",
   "version": "3.13.3"
  }
 },
 "nbformat": 4,
 "nbformat_minor": 2
}
