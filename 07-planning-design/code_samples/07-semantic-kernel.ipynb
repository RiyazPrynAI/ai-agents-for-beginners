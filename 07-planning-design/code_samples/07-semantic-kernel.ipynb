{
 "cells": [
  {
   "cell_type": "code",
   "execution_count": 1,
   "metadata": {},
   "outputs": [],
   "source": [
    "import json\n",
    "import os\n",
    "\n",
    "from dotenv import load_dotenv\n",
    "\n",
    "from pydantic import BaseModel, ValidationError, Field\n",
    "\n",
    "\n",
    "from openai import AsyncOpenAI\n",
    "\n",
    "from semantic_kernel.connectors.ai.open_ai import OpenAIChatCompletion, OpenAIChatPromptExecutionSettings\n",
    "from semantic_kernel.agents import ChatCompletionAgent, ChatHistoryAgentThread\n",
    "\n",
    "from semantic_kernel.functions import KernelArguments"
   ]
  },
  {
   "cell_type": "code",
   "execution_count": 2,
   "metadata": {},
   "outputs": [],
   "source": [
    "load_dotenv()\n",
    "client = AsyncOpenAI(\n",
    "    api_key=os.environ.get(\"GITHUB_TOKEN\"), \n",
    "    base_url=\"https://models.inference.ai.azure.com/\",\n",
    ")\n",
    "\n",
    "chat_completion_service = OpenAIChatCompletion(\n",
    "    ai_model_id=\"gpt-4o-mini\",\n",
    "    async_client=client,\n",
    ")"
   ]
  },
  {
   "cell_type": "code",
   "execution_count": 3,
   "metadata": {},
   "outputs": [
    {
     "ename": "NameError",
     "evalue": "name 'List' is not defined",
     "output_type": "error",
     "traceback": [
      "\u001b[31m---------------------------------------------------------------------------\u001b[39m",
      "\u001b[31mNameError\u001b[39m                                 Traceback (most recent call last)",
      "\u001b[36mCell\u001b[39m\u001b[36m \u001b[39m\u001b[32mIn[3]\u001b[39m\u001b[32m, line 8\u001b[39m\n\u001b[32m      2\u001b[39m     assigned_agent: \u001b[38;5;28mstr\u001b[39m = Field(\n\u001b[32m      3\u001b[39m         description=\u001b[33m\"\u001b[39m\u001b[33mThe specific agent assigned to handle this subtask\u001b[39m\u001b[33m\"\u001b[39m)\n\u001b[32m      4\u001b[39m     task_details: \u001b[38;5;28mstr\u001b[39m = Field(\n\u001b[32m      5\u001b[39m         description=\u001b[33m\"\u001b[39m\u001b[33mDetailed description of what needs to be done for this subtask\u001b[39m\u001b[33m\"\u001b[39m)\n\u001b[32m----> \u001b[39m\u001b[32m8\u001b[39m \u001b[38;5;28;43;01mclass\u001b[39;49;00m\u001b[38;5;250;43m \u001b[39;49m\u001b[34;43;01mTravelPlan\u001b[39;49;00m\u001b[43m(\u001b[49m\u001b[43mBaseModel\u001b[49m\u001b[43m)\u001b[49m\u001b[43m:\u001b[49m\n\u001b[32m      9\u001b[39m \u001b[43m    \u001b[49m\u001b[43mmain_task\u001b[49m\u001b[43m:\u001b[49m\u001b[43m \u001b[49m\u001b[38;5;28;43mstr\u001b[39;49m\u001b[43m \u001b[49m\u001b[43m=\u001b[49m\u001b[43m \u001b[49m\u001b[43mField\u001b[49m\u001b[43m(\u001b[49m\n\u001b[32m     10\u001b[39m \u001b[43m        \u001b[49m\u001b[43mdescription\u001b[49m\u001b[43m=\u001b[49m\u001b[33;43m\"\u001b[39;49m\u001b[33;43mThe overall travel request from the user\u001b[39;49m\u001b[33;43m\"\u001b[39;49m\u001b[43m)\u001b[49m\n\u001b[32m     11\u001b[39m \u001b[43m    \u001b[49m\u001b[43msubtasks\u001b[49m\u001b[43m:\u001b[49m\u001b[43m \u001b[49m\u001b[43mList\u001b[49m\u001b[43m[\u001b[49m\u001b[43mSubTask\u001b[49m\u001b[43m]\u001b[49m\u001b[43m \u001b[49m\u001b[43m=\u001b[49m\u001b[43m \u001b[49m\u001b[43mField\u001b[49m\u001b[43m(\u001b[49m\n\u001b[32m     12\u001b[39m \u001b[43m        \u001b[49m\u001b[43mdescription\u001b[49m\u001b[43m=\u001b[49m\u001b[33;43m\"\u001b[39;49m\u001b[33;43mList of subtasks broken down from the main task, each assigned to a specialized agent\u001b[39;49m\u001b[33;43m\"\u001b[39;49m\u001b[43m)\u001b[49m\n",
      "\u001b[36mCell\u001b[39m\u001b[36m \u001b[39m\u001b[32mIn[3]\u001b[39m\u001b[32m, line 11\u001b[39m, in \u001b[36mTravelPlan\u001b[39m\u001b[34m()\u001b[39m\n\u001b[32m      8\u001b[39m \u001b[38;5;28;01mclass\u001b[39;00m\u001b[38;5;250m \u001b[39m\u001b[34;01mTravelPlan\u001b[39;00m(BaseModel):\n\u001b[32m      9\u001b[39m     main_task: \u001b[38;5;28mstr\u001b[39m = Field(\n\u001b[32m     10\u001b[39m         description=\u001b[33m\"\u001b[39m\u001b[33mThe overall travel request from the user\u001b[39m\u001b[33m\"\u001b[39m)\n\u001b[32m---> \u001b[39m\u001b[32m11\u001b[39m     subtasks: \u001b[43mList\u001b[49m[SubTask] = Field(\n\u001b[32m     12\u001b[39m         description=\u001b[33m\"\u001b[39m\u001b[33mList of subtasks broken down from the main task, each assigned to a specialized agent\u001b[39m\u001b[33m\"\u001b[39m)\n",
      "\u001b[31mNameError\u001b[39m: name 'List' is not defined"
     ]
    }
   ],
   "source": [
    "class SubTask(BaseModel):\n",
    "    assigned_agent: str = Field(\n",
    "        description=\"The specific agent assigned to handle this subtask\")\n",
    "    task_details: str = Field(\n",
    "        description=\"Detailed description of what needs to be done for this subtask\")\n",
    "\n",
    "\n",
    "class TravelPlan(BaseModel):\n",
    "    main_task: str = Field(\n",
    "        description=\"The overall travel request from the user\")\n",
    "    subtasks: List[SubTask] = Field(\n",
    "        description=\"List of subtasks broken down from the main task, each assigned to a specialized agent\")"
   ]
  },
  {
   "cell_type": "code",
   "execution_count": 4,
   "metadata": {},
   "outputs": [
    {
     "ename": "NameError",
     "evalue": "name 'TravelPlan' is not defined",
     "output_type": "error",
     "traceback": [
      "\u001b[31m---------------------------------------------------------------------------\u001b[39m",
      "\u001b[31mNameError\u001b[39m                                 Traceback (most recent call last)",
      "\u001b[36mCell\u001b[39m\u001b[36m \u001b[39m\u001b[32mIn[4]\u001b[39m\u001b[32m, line 13\u001b[39m\n\u001b[32m      2\u001b[39m AGENT_INSTRUCTIONS = \u001b[33m\"\"\"\u001b[39m\u001b[33mYou are an planner agent.\u001b[39m\n\u001b[32m      3\u001b[39m \u001b[33m    Your job is to decide which agents to run based on the user\u001b[39m\u001b[33m'\u001b[39m\u001b[33ms request.\u001b[39m\n\u001b[32m      4\u001b[39m \u001b[33m    Below are the available agents specialised in different tasks:\u001b[39m\n\u001b[32m   (...)\u001b[39m\u001b[32m      9\u001b[39m \u001b[33m    - DestinationInfo: For providing information about destinations\u001b[39m\n\u001b[32m     10\u001b[39m \u001b[33m    - DefaultAgent: For handling general requests\u001b[39m\u001b[33m\"\"\"\u001b[39m\n\u001b[32m     12\u001b[39m \u001b[38;5;66;03m# Create the prompt execution settings and configure the Pydantic model response format\u001b[39;00m\n\u001b[32m---> \u001b[39m\u001b[32m13\u001b[39m settings = OpenAIChatPromptExecutionSettings(response_format=\u001b[43mTravelPlan\u001b[49m)\n\u001b[32m     15\u001b[39m agent = ChatCompletionAgent(\n\u001b[32m     16\u001b[39m     service=chat_completion_service,\n\u001b[32m     17\u001b[39m     name=AGENT_NAME,\n\u001b[32m     18\u001b[39m     instructions=AGENT_INSTRUCTIONS,\n\u001b[32m     19\u001b[39m     arguments=KernelArguments(settings) \n\u001b[32m     20\u001b[39m )\n",
      "\u001b[31mNameError\u001b[39m: name 'TravelPlan' is not defined"
     ]
    }
   ],
   "source": [
    "AGENT_NAME = \"TravelAgent\"\n",
    "AGENT_INSTRUCTIONS = \"\"\"You are an planner agent.\n",
    "    Your job is to decide which agents to run based on the user's request.\n",
    "    Below are the available agents specialised in different tasks:\n",
    "    - FlightBooking: For booking flights and providing flight information\n",
    "    - HotelBooking: For booking hotels and providing hotel information\n",
    "    - CarRental: For booking cars and providing car rental information\n",
    "    - ActivitiesBooking: For booking activities and providing activity information\n",
    "    - DestinationInfo: For providing information about destinations\n",
    "    - DefaultAgent: For handling general requests\"\"\"\n",
    "\n",
    "# Create the prompt execution settings and configure the Pydantic model response format\n",
    "settings = OpenAIChatPromptExecutionSettings(response_format=TravelPlan)\n",
    "\n",
    "agent = ChatCompletionAgent(\n",
    "    service=chat_completion_service,\n",
    "    name=AGENT_NAME,\n",
    "    instructions=AGENT_INSTRUCTIONS,\n",
    "    arguments=KernelArguments(settings) \n",
    ")"
   ]
  },
  {
   "cell_type": "code",
   "execution_count": 5,
   "metadata": {},
   "outputs": [
    {
     "ename": "NameError",
     "evalue": "name 'agent' is not defined",
     "output_type": "error",
     "traceback": [
      "\u001b[31m---------------------------------------------------------------------------\u001b[39m",
      "\u001b[31mNameError\u001b[39m                                 Traceback (most recent call last)",
      "\u001b[36mCell\u001b[39m\u001b[36m \u001b[39m\u001b[32mIn[5]\u001b[39m\u001b[32m, line 54\u001b[39m\n\u001b[32m     51\u001b[39m         \u001b[38;5;66;03m# Display formatted HTML\u001b[39;00m\n\u001b[32m     52\u001b[39m         display(HTML(html_output))\n\u001b[32m---> \u001b[39m\u001b[32m54\u001b[39m \u001b[38;5;28;01mawait\u001b[39;00m main()\n",
      "\u001b[36mCell\u001b[39m\u001b[36m \u001b[39m\u001b[32mIn[5]\u001b[39m\u001b[32m, line 24\u001b[39m, in \u001b[36mmain\u001b[39m\u001b[34m()\u001b[39m\n\u001b[32m     21\u001b[39m html_output += \u001b[33m\"\u001b[39m\u001b[33m</div>\u001b[39m\u001b[33m\"\u001b[39m\n\u001b[32m     23\u001b[39m \u001b[38;5;66;03m# Collect the agent's response\u001b[39;00m\n\u001b[32m---> \u001b[39m\u001b[32m24\u001b[39m response = \u001b[38;5;28;01mawait\u001b[39;00m \u001b[43magent\u001b[49m.get_response(messages=user_input, thread=thread)\n\u001b[32m     25\u001b[39m thread = response.thread\n\u001b[32m     27\u001b[39m \u001b[38;5;28;01mtry\u001b[39;00m:\n\u001b[32m     28\u001b[39m     \u001b[38;5;66;03m# Try to validate the response as a TravelPlan\u001b[39;00m\n",
      "\u001b[31mNameError\u001b[39m: name 'agent' is not defined"
     ]
    }
   ],
   "source": [
    "from IPython.display import display, HTML\n",
    "\n",
    "\n",
    "async def main():\n",
    "    # Create a thread for the agent\n",
    "    # If no thread is provided, a new thread will be\n",
    "    # created and returned with the initial response\n",
    "    thread: ChatHistoryAgentThread | None = None\n",
    "\n",
    "    # Respond to user input\n",
    "    user_inputs = [\n",
    "        \"Create a travel plan for a family of 4, with 2 kids, from Singapore to Melbourne\",\n",
    "    ]\n",
    "\n",
    "    for user_input in user_inputs:\n",
    "        \n",
    "        # Start building HTML output\n",
    "        html_output = \"<div style='margin-bottom:10px'>\"\n",
    "        html_output += \"<div style='font-weight:bold'>User:</div>\"\n",
    "        html_output += f\"<div style='margin-left:20px'>{user_input}</div>\"\n",
    "        html_output += \"</div>\"\n",
    "\n",
    "        # Collect the agent's response\n",
    "        response = await agent.get_response(messages=user_input, thread=thread)\n",
    "        thread = response.thread\n",
    "\n",
    "        try:\n",
    "            # Try to validate the response as a TravelPlan\n",
    "            travel_plan = TravelPlan.model_validate(json.loads(response.message.content))\n",
    "\n",
    "            # Display the validated model as formatted JSON\n",
    "            formatted_json = travel_plan.model_dump_json(indent=4)\n",
    "            html_output += \"<div style='margin-bottom:20px'>\"\n",
    "            html_output += \"<div style='font-weight:bold'>Validated Travel Plan:</div>\"\n",
    "            html_output += f\"<pre style='margin-left:20px; padding:10px; border-radius:5px;'>{formatted_json}</pre>\"\n",
    "            html_output += \"</div>\"\n",
    "        except ValidationError as e:\n",
    "            # Handle validation errors\n",
    "            html_output += \"<div style='margin-bottom:20px; color:red;'>\"\n",
    "            html_output += \"<div style='font-weight:bold'>Validation Error:</div>\"\n",
    "            html_output += f\"<pre style='margin-left:20px;'>{str(e)}</pre>\"\n",
    "            html_output += \"</div>\"\n",
    "            # Add this to see what the response contains for debugging\n",
    "            html_output += \"<div style='margin-bottom:20px;'>\"\n",
    "            html_output += \"<div style='font-weight:bold'>Raw Response:</div>\"\n",
    "            html_output += f\"<div style='margin-left:20px; white-space:pre-wrap'>{response.content}</div>\"\n",
    "            html_output += \"</div>\"\n",
    "\n",
    "        html_output += \"<hr>\"\n",
    "\n",
    "        # Display formatted HTML\n",
    "        display(HTML(html_output))\n",
    "\n",
    "await main()"
   ]
  },
  {
   "cell_type": "markdown",
   "metadata": {},
   "source": [
    "You should see sample output similar to:\n",
    "\n",
    "```json\n",
    "User:\n",
    "Create a travel plan for a family of 4, with 2 kids, from Singapore to Melboune\n",
    "Validated Travel Plan:\n",
    "{\n",
    "    \"main_task\": \"Plan a family trip from Singapore to Melbourne for 4 people including 2 kids.\",\n",
    "    \"subtasks\": [\n",
    "        {\n",
    "            \"assigned_agent\": \"FlightBooking\",\n",
    "            \"task_details\": \"Book round-trip flights from Singapore to Melbourne for 2 adults and 2 children.\"\n",
    "        },\n",
    "        {\n",
    "            \"assigned_agent\": \"HotelBooking\",\n",
    "            \"task_details\": \"Find and book a family-friendly hotel in Melbourne that accommodates 4 people.\"\n",
    "        },\n",
    "        {\n",
    "            \"assigned_agent\": \"CarRental\",\n",
    "            \"task_details\": \"Arrange for a car rental in Melbourne suitable for a family of 4.\"\n",
    "        },\n",
    "        {\n",
    "            \"assigned_agent\": \"ActivitiesBooking\",\n",
    "            \"task_details\": \"Plan and book family-friendly activities in Melbourne suitable for kids.\"\n",
    "        },\n",
    "        {\n",
    "            \"assigned_agent\": \"DestinationInfo\",\n",
    "            \"task_details\": \"Provide information about Melbourne, including attractions, dining options, and family-oriented activities.\"\n",
    "        }\n",
    "    ]\n",
    "}\n",
    "```"
   ]
  }
 ],
 "metadata": {
  "kernelspec": {
   "display_name": "Agentsenv",
   "language": "python",
   "name": "python3"
  },
  "language_info": {
   "codemirror_mode": {
    "name": "ipython",
    "version": 3
   },
   "file_extension": ".py",
   "mimetype": "text/x-python",
   "name": "python",
   "nbconvert_exporter": "python",
   "pygments_lexer": "ipython3",
   "version": "3.13.3"
  }
 },
 "nbformat": 4,
 "nbformat_minor": 2
}
