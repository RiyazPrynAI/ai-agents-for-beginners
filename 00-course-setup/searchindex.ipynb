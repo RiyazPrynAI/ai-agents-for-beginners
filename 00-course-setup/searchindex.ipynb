{
 "cells": [
  {
   "cell_type": "code",
   "execution_count": null,
   "id": "05e35dcb",
   "metadata": {},
   "outputs": [],
   "source": [
    "from azure.core.credentials import AzureKeyCredential\n",
    "from azure.search.documents import SearchClient\n",
    "from azure.search.documents.indexes import SearchIndexClient\n",
    "from azure.search.documents.indexes.models import SearchIndex, SimpleField, SearchFieldDataType\n",
    "\n",
    "service_endpoint = \"\"\n",
    "api_key = \"\""
   ]
  },
  {
   "cell_type": "code",
   "execution_count": 3,
   "id": "47e77117",
   "metadata": {},
   "outputs": [
    {
     "data": {
      "text/plain": [
       "[<azure.search.documents._generated.models._models_py3.IndexingResult at 0x11012acc1a0>,\n",
       " <azure.search.documents._generated.models._models_py3.IndexingResult at 0x11012ae9590>]"
      ]
     },
     "execution_count": 3,
     "metadata": {},
     "output_type": "execute_result"
    }
   ],
   "source": [
    "index_client = SearchIndexClient(service_endpoint, AzureKeyCredential(api_key))\n",
    "\n",
    "fields = [\n",
    "    SimpleField(name=\"id\", type=SearchFieldDataType.String, key=True),\n",
    "    SimpleField(name=\"content\", type=SearchFieldDataType.String, searchable=True),\n",
    "]\n",
    "\n",
    "index = SearchIndex(name=\"sample-index\", fields=fields)\n",
    "\n",
    "index_client.create_index(index)\n",
    "\n",
    "search_client = SearchClient(service_endpoint, \"sample-index\", AzureKeyCredential(api_key))\n",
    "\n",
    "documents = [\n",
    "    {\"id\": \"1\", \"content\": \"Hello world\"},\n",
    "    {\"id\": \"2\", \"content\": \"Azure Cognitive Search\"}\n",
    "]\n",
    "\n",
    "search_client.upload_documents(documents)"
   ]
  }
 ],
 "metadata": {
  "kernelspec": {
   "display_name": "Agentsenv",
   "language": "python",
   "name": "python3"
  },
  "language_info": {
   "codemirror_mode": {
    "name": "ipython",
    "version": 3
   },
   "file_extension": ".py",
   "mimetype": "text/x-python",
   "name": "python",
   "nbconvert_exporter": "python",
   "pygments_lexer": "ipython3",
   "version": "3.13.3"
  }
 },
 "nbformat": 4,
 "nbformat_minor": 5
}
